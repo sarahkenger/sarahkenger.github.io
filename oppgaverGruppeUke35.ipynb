{
  "cells": [
    {
      "cell_type": "markdown",
      "id": "e30ed891",
      "metadata": {
        "id": "e30ed891"
      },
      "source": [
        "# Oppgaver for hånd\n",
        "\n",
        "**Oppgave 1 - Trunkasjonsfeil**\n",
        "\n",
        "Ved hjelp av Taylorpolynomet kan vi finne $sin(x)$ om $x=0$ ved hjelp av:\n",
        "$sin(x)=\\sum_{n=0}^\\infty \\frac{(-1)^n}{(2n+1)!}x^{2n+1}$\n",
        "\n",
        "Hva er trunkeringsfeilen til $\\sin(0.1)$ hvis vi stopper på 5. ordens approksimasjon?\n",
        "\n",
        "**Oppgave 2 - Feilkilder**\n",
        "\n",
        "Når vi bruker numerikk skal vi som oftest løse et ekte problem. Da bruker vi som oftest data som kommer fra ekte målinger, som da har en viss usikker med seg. I denne oppgaven skal vi se hvordan denne feilen kan utvikle seg.\n",
        "\n",
        "Vi måler en sirkel med radius $r=10.1$ m. Vi antar at den ekte verdien er $r=10.0$ m\n",
        "a) Hva er den relative feilen til $r$?\n",
        "b) Hvor stor blir den absolutte og relative feilen til arealet $A=\\pi r^2$?\n",
        "\n",
        "Stefan-Boltzmann lov om temperatur sier at utstrålingstettheten $M$ til en stjerne er gitt med $M=\\sigma T^4$ hvor $\\sigma=5.670$ er en konstant og $T$ er stjernens temperaturen.\n",
        "\n",
        "c) Hvis solens temperatur i virkeligheten er $5700$ K men vi klarer bare å måle med en presisjon $\\pm50$ K, hva er den verste mulige relative feilen til utstrålingstettheten?\n",
        "\n",
        "\n",
        "**Oppgave 3 - Flyttall**\n",
        "\n",
        "I denne oppgaven skal vi sakte men sikkert lage et flyttall for hånd.\n",
        "\n",
        "Konverter følgende tall fra base-10 til base-2:\n",
        "\n",
        "a) $13$\n",
        "\n",
        "b) $0.625$\n",
        "\n",
        "Husk at ofte skriver vi store og små tall på formen $13.625=1.3625*10^1$.\n",
        "På samme måte kan man skrive et bineært tall som f.eks.: $1101.1010 = 1.1011010*10^{11}$ (lest som  $*2^3$)\n",
        "\n",
        "c) Hva er 13.625 på formen over?\n",
        "\n",
        "Minne til en datamaskin er bare en rekke 0 og 1'ere. For å lagre desimaltall må vi dermed ha noen regler for hvordan vi skal omregne det. En av disse reglene blir kalt Float16, kalt dette siden det er 16 bits (0/1) som lager flyttall.\n",
        "\n",
        "Reglene for hvordan bits'ene skal leses kan ses under:\n",
        "\n",
        "![image.png](attachment:image.png)\n",
        "\n",
        "Merk at på linjen under figuren er tallene $2$, exponent og $15$ gitt i base-10.\n",
        "\n",
        "Eksempelet $1101.1010 = 1.1011010*10^{11}$ vil lagres som:\n",
        "$$0 \\ 10010 \\ 1011010000$$\n",
        "\n",
        "Legg merke til hva som skjer med eksponenten.\n",
        "\n",
        "d) Hvordan vil tallet 13.625 lagres som en Float16 i minnet?\n",
        "\n",
        "e) Hva med -13.625?\n",
        "\n",
        "f) Hvordan ville tallet $13.625 + \\frac{1}{2^8}$ blitt lagret i minnet?\n",
        "\n",
        "(Se denne nettsiden for en interaktiv versjon: https://evanw.github.io/float-toy)"
      ]
    },
    {
      "cell_type": "markdown",
      "id": "1376a23f",
      "metadata": {
        "id": "1376a23f"
      },
      "source": [
        "# Kodeoppgaver\n",
        "\n",
        "**Oppgave 4 - Trunkasjon**\n",
        "\n",
        "a) Hvorfor viser koden under \"false\"?\n",
        "\n",
        "b) Utvid koden med å bruke np.round(tall, antall_desimaler) til å få koden til å gjøre det logiske."
      ]
    },
    {
      "cell_type": "markdown",
      "source": [],
      "metadata": {
        "id": "FPcHZbY-eAy4"
      },
      "id": "FPcHZbY-eAy4"
    },
    {
      "cell_type": "code",
      "execution_count": null,
      "id": "35788510",
      "metadata": {
        "id": "35788510",
        "outputId": "6df2f5b1-afc1-4d27-f1fe-64d0239f79e8"
      },
      "outputs": [
        {
          "name": "stdout",
          "output_type": "stream",
          "text": [
            "False\n"
          ]
        }
      ],
      "source": [
        "import numpy as np\n",
        "\n",
        "x = 0.1 + 0.2\n",
        "print(x==0.3)"
      ]
    },
    {
      "cell_type": "markdown",
      "id": "0ff56cf4",
      "metadata": {
        "id": "0ff56cf4"
      },
      "source": [
        "# Oppgave 5 - tap av signifikante siffer\n",
        "\n",
        "Estimer $\\lim_{x\\rightarrow 0}\\frac{1-\\cos(x)}{x^2}$ med $x=10^{-1}, 10^{-3}, 10^{-5}, 10^{7}$.\n",
        "\n",
        "a) Hvorfor blir svarene dårligere når $x$ blir mindre?\n",
        "\n",
        "b) Kan du skrive om problemet slik at datamaskinen kan regne ut grensen?"
      ]
    },
    {
      "cell_type": "code",
      "execution_count": null,
      "id": "65d38def",
      "metadata": {
        "id": "65d38def"
      },
      "outputs": [],
      "source": [
        "# Cosinus kan finnes med å bruke np.cos(tall)\n"
      ]
    },
    {
      "cell_type": "markdown",
      "id": "803977b7",
      "metadata": {
        "id": "803977b7"
      },
      "source": [
        "# Oppgave 6 - Maskin epsilon\n",
        "\n",
        "Skriv en kode som finner det minste mulige tallet $\\epsilon$ slik at $1+\\epsilon \\neq 1$ for datamaskinen.\n",
        "\n",
        "Hvordan endrer $\\epsilon$ seg hvis vi ser på et større tall $A+\\epsilon \\neq A$?\n"
      ]
    },
    {
      "cell_type": "code",
      "execution_count": null,
      "id": "6b493111",
      "metadata": {
        "id": "6b493111",
        "outputId": "06df1ee2-c589-459f-942e-a3ecf1cdbb9b"
      },
      "outputs": [
        {
          "name": "stdout",
          "output_type": "stream",
          "text": [
            "True\n"
          ]
        }
      ],
      "source": [
        "# Eksempel. Klarer du å lage et mer systematisk program?\n",
        "a = 1.0\n",
        "epsilon = 10**-100\n",
        "\n",
        "b = a + epsilon\n",
        "\n",
        "print(a == b)\n"
      ]
    },
    {
      "cell_type": "markdown",
      "id": "ad935047",
      "metadata": {
        "id": "ad935047"
      },
      "source": [
        "# Oppgave 7 - Evaluere polynom\n",
        "\n",
        "Jeg kommer på minst 3 måter å regne ut et polynom for hånd.\n",
        "Polynomet $f(x)=2-5x+3x^2-x^3$ kan for eksempel evalueres i $x=\\frac{1}{2}$ som:\n",
        "\n",
        "1) $f(\\frac{1}{2}) = 2 - 5 * \\frac{1}{2} + 3 * \\frac{1}{2} * \\frac{1}{2} -  \\frac{1}{2} * \\frac{1}{2} * \\frac{1}{2}$\n",
        "\n",
        "2) Men her regner vi ut $1/2 * 1/2$ unødvendig mange ganger. La oss istedet regne ut disse først:\n",
        "$$\\frac{1}{2}*\\frac{1}{2} = \\left(\\frac{1}{2}\\right)^2$$\n",
        "$$\\left(\\frac{1}{2}\\right)^2 * \\frac{1}{2} = \\left(\\frac{1}{2}\\right)^3$$\n",
        "For så å regne ut $f(\\frac{1}{2}) = 2 - 5*\\frac{1}{2} + 3*\\left(\\frac{1}{2}\\right)^2 - \\left(\\frac{1}{2}\\right)^3$\n",
        "\n",
        "3) Den siste måten vi kan regne det ut på er med såkalt nøstet multiplikasjon:\n",
        "$$f(x)=2-5x+3x^2-x^3=2-x(5+3x-x^2)=2-x(5+x(3-x))$$\n",
        "\n",
        "\n",
        "\n",
        "a) Hvor mange gange og plusse operasjoner krever mer metode?\n",
        "\n",
        "b) Kod hver av eksemplene og sammenlign tiden det tar å regne ut $f(\\frac{1}{2})$.\n",
        "\n",
        "c) Er det en forskjell på om du skriver $1/2$ eller $0.5$ når du evaluerer polynomene?"
      ]
    },
    {
      "cell_type": "code",
      "execution_count": null,
      "id": "79e4bc61",
      "metadata": {
        "id": "79e4bc61"
      },
      "outputs": [],
      "source": [
        "import time as time\n",
        "\n",
        "# Metode 1\n",
        "t0 = time()\n",
        "\n",
        "t1 = time()\n",
        "print(t1-t0)\n",
        "\n",
        "\n",
        "# Metode 2\n",
        "t0 = time()\n",
        "\n",
        "t1 = time()\n",
        "print(t1-t0)\n",
        "\n",
        "\n",
        "# Metode 3\n",
        "t0 = time()\n",
        "\n",
        "t1 = time()\n",
        "print(t1-t0)"
      ]
    }
  ],
  "metadata": {
    "kernelspec": {
      "display_name": "base",
      "language": "python",
      "name": "python3"
    },
    "language_info": {
      "codemirror_mode": {
        "name": "ipython",
        "version": 3
      },
      "file_extension": ".py",
      "mimetype": "text/x-python",
      "name": "python",
      "nbconvert_exporter": "python",
      "pygments_lexer": "ipython3",
      "version": "3.12.3"
    },
    "colab": {
      "provenance": []
    }
  },
  "nbformat": 4,
  "nbformat_minor": 5
}